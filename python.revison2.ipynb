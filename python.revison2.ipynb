{
 "cells": [
  {
   "cell_type": "code",
   "execution_count": 2,
   "id": "aa38a587",
   "metadata": {},
   "outputs": [
    {
     "name": "stdout",
     "output_type": "stream",
     "text": [
      "*     \n",
      "* *   \n",
      "* * * \n"
     ]
    }
   ],
   "source": [
    "# *\n",
    "# *  *\n",
    "# *  *  *\n",
    "for i in range(1,4):\n",
    "    for j in range(1,4):\n",
    "        if j<=i:\n",
    "            print(\"*\",end=\" \")\n",
    "        else:\n",
    "            print(\" \",end=\" \")\n",
    "    print()        "
   ]
  },
  {
   "cell_type": "code",
   "execution_count": 13,
   "id": "c9efdc49",
   "metadata": {},
   "outputs": [
    {
     "name": "stdout",
     "output_type": "stream",
     "text": [
      "* * * * * \n",
      "  * * *   \n",
      "    *     \n"
     ]
    }
   ],
   "source": [
    "# *****\n",
    "#  ***\n",
    "#   *\n",
    "for i in range(1,4):\n",
    "    for j in range(1,6):\n",
    "        if j>=i and j<=6-i :\n",
    "            print(\"*\",end=\" \")\n",
    "        else:\n",
    "            print(\" \",end=\" \")\n",
    "    print()        "
   ]
  },
  {
   "cell_type": "code",
   "execution_count": 17,
   "id": "b0a5917e",
   "metadata": {},
   "outputs": [
    {
     "name": "stdout",
     "output_type": "stream",
     "text": [
      "1 2 3 4 5 \n",
      "  1 2 3   \n",
      "    1     \n"
     ]
    }
   ],
   "source": [
    "# 12345\n",
    "#  123\n",
    "#   1\n",
    "\n",
    "for i in range(1,4):\n",
    "    a=1\n",
    "    for j in range(1,6):\n",
    "        if j>=i and j<=6-i :\n",
    "            print(a,end=\" \")\n",
    "            a+=1\n",
    "            \n",
    "        else:\n",
    "            print(\" \",end=\" \")\n",
    "    print()  "
   ]
  },
  {
   "cell_type": "code",
   "execution_count": 38,
   "id": "0d6f4611",
   "metadata": {},
   "outputs": [
    {
     "name": "stdout",
     "output_type": "stream",
     "text": [
      "1 2 3 4 5 \n",
      "  2 3 4   \n",
      "    3     \n"
     ]
    }
   ],
   "source": [
    "# 12345\n",
    "#  234\n",
    "#   3\n",
    "a=1\n",
    "for i in range(1,4):\n",
    "    a=i\n",
    "    for j in range(1,6):\n",
    "        if j>=i and j<=6-i :\n",
    "            print(a,end=\" \")\n",
    "            a+=1\n",
    "            \n",
    "            \n",
    "            \n",
    "        else:\n",
    "            print(\" \",end=\" \")\n",
    "            \n",
    "    print()  \n",
    "    "
   ]
  },
  {
   "cell_type": "code",
   "execution_count": 63,
   "id": "e763549b",
   "metadata": {},
   "outputs": [
    {
     "name": "stdout",
     "output_type": "stream",
     "text": [
      "10 20 "
     ]
    }
   ],
   "source": [
    "#  [10,20,10,20]  => find out duplicate element from the list\n",
    "a=[10,20,10,20]\n",
    "dic={}\n",
    "for i in a:\n",
    "    if i not in dic:\n",
    "        dic[i]=1\n",
    "    else:\n",
    "        dic[i]+=1     \n",
    "for key,value in dic.items():\n",
    "    if value>=2:\n",
    "        print(key,end=\" \")"
   ]
  },
  {
   "cell_type": "code",
   "execution_count": 2,
   "id": "80fb1815",
   "metadata": {},
   "outputs": [
    {
     "ename": "TypeError",
     "evalue": "'>' not supported between instances of 'int' and 'list'",
     "output_type": "error",
     "traceback": [
      "\u001b[1;31m---------------------------------------------------------------------------\u001b[0m",
      "\u001b[1;31mTypeError\u001b[0m                                 Traceback (most recent call last)",
      "Cell \u001b[1;32mIn[2], line 5\u001b[0m\n\u001b[0;32m      3\u001b[0m temp\u001b[38;5;241m=\u001b[39m[\u001b[38;5;241m0\u001b[39m]\n\u001b[0;32m      4\u001b[0m \u001b[38;5;28;01mfor\u001b[39;00m i \u001b[38;5;129;01min\u001b[39;00m a:\n\u001b[1;32m----> 5\u001b[0m     \u001b[38;5;28;01mif\u001b[39;00m i\u001b[38;5;241m>\u001b[39mtemp:\n\u001b[0;32m      6\u001b[0m         temp\u001b[38;5;241m=\u001b[39mi\n\u001b[0;32m      7\u001b[0m \u001b[38;5;28mprint\u001b[39m(temp)\n",
      "\u001b[1;31mTypeError\u001b[0m: '>' not supported between instances of 'int' and 'list'"
     ]
    }
   ],
   "source": [
    "# [10,3,0,70,80,100,9]  => find the maximum value\n",
    "a=[10,3,0,70,80,100,9]\n",
    "temp=[0]\n",
    "for i in a:\n",
    "    if i>temp:\n",
    "        temp=i\n",
    "print(temp)        \n",
    "        \n",
    "\n",
    "            \n",
    "            \n",
    "        \n",
    "    "
   ]
  }
 ],
 "metadata": {
  "kernelspec": {
   "display_name": "Python 3 (ipykernel)",
   "language": "python",
   "name": "python3"
  },
  "language_info": {
   "codemirror_mode": {
    "name": "ipython",
    "version": 3
   },
   "file_extension": ".py",
   "mimetype": "text/x-python",
   "name": "python",
   "nbconvert_exporter": "python",
   "pygments_lexer": "ipython3",
   "version": "3.11.5"
  }
 },
 "nbformat": 4,
 "nbformat_minor": 5
}
