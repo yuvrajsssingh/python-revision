{
 "cells": [
  {
   "cell_type": "code",
   "execution_count": null,
   "id": "04b88bd4",
   "metadata": {},
   "outputs": [],
   "source": [
    "# 1. Nested loop  overview\n",
    "# -take a number from 2 to 5 and print its table\n",
    "\n",
    "for i in range(2,6):\n",
    "    for j in range(1,11):\n",
    "        print(i*j,end=\" \")\n",
    "    print()"
   ]
  },
  {
   "cell_type": "code",
   "execution_count": null,
   "id": "9d78bc2f",
   "metadata": {},
   "outputs": [],
   "source": [
    "# -take a number from 6 to 2 and print its table\n",
    "for i in range(6,1,-1):\n",
    "    for j in range(1,11):\n",
    "        print(i*j,end=\" \")\n",
    "    print()    "
   ]
  },
  {
   "cell_type": "code",
   "execution_count": null,
   "id": "f4273392",
   "metadata": {},
   "outputs": [],
   "source": [
    "# -take a number from 6 to 2 and print its table in reversse\n",
    "for i in range(6,1,-1):\n",
    "    for j in range(10,0,-1):\n",
    "        print(i*j,end=' ')\n",
    "    print()\n",
    "        "
   ]
  },
  {
   "cell_type": "code",
   "execution_count": 8,
   "id": "f360d601",
   "metadata": {},
   "outputs": [
    {
     "name": "stdout",
     "output_type": "stream",
     "text": [
      "enter the number:17\n",
      "prime\n"
     ]
    }
   ],
   "source": [
    "# 2. Check a number is a prime not\n",
    "num=int(input(\"enter the number:\"))\n",
    "count=0\n",
    "i=1\n",
    "while i<num:\n",
    "    if num%i==0:\n",
    "        count+=1\n",
    "    i+=1\n",
    "if count==2:\n",
    "    print(\"not prime\")\n",
    "else:  \n",
    "    print(\"prime\")"
   ]
  },
  {
   "cell_type": "code",
   "execution_count": 72,
   "id": "f5f5305c",
   "metadata": {},
   "outputs": [
    {
     "name": "stdout",
     "output_type": "stream",
     "text": [
      "2 3 5 7 11 13 17 19 "
     ]
    }
   ],
   "source": [
    "# Range of values from 2 to 19\n",
    "for num in range(2,20):  \n",
    "    count = 0\n",
    "    i = 1\n",
    "    while i <= num:\n",
    "        if num % i == 0:\n",
    "            count += 1\n",
    "        i += 1\n",
    "    if count == 2:\n",
    "        print(num, end=\" \")"
   ]
  },
  {
   "cell_type": "code",
   "execution_count": 79,
   "id": "b96e577b",
   "metadata": {},
   "outputs": [
    {
     "name": "stdout",
     "output_type": "stream",
     "text": [
      "* * * * \n",
      "* * *   \n",
      "* *     \n",
      "*       \n"
     ]
    }
   ],
   "source": [
    "4.\n",
    "# ****\n",
    "# ***\n",
    "# **\n",
    "# *\n",
    "\n",
    "for i in range (1,5):\n",
    "    for j in range(1,5):\n",
    "        if j<=5-i:\n",
    "            print(\"*\",end=\" \")\n",
    "        else:\n",
    "            print(\" \",end=\" \")\n",
    "    print()        "
   ]
  },
  {
   "cell_type": "code",
   "execution_count": 81,
   "id": "f509fd84",
   "metadata": {},
   "outputs": [
    {
     "name": "stdout",
     "output_type": "stream",
     "text": [
      "$ $ $ * \n",
      "$ $ * * \n",
      "$ * * * \n",
      "* * * * \n"
     ]
    }
   ],
   "source": [
    "5.\n",
    "# $$$*\n",
    "# $$**\n",
    "# $***\n",
    "# ****\n",
    "for i in range(1,5):\n",
    "    for j in range(1,5):\n",
    "        if j>=5-i:\n",
    "            print(\"*\",end=\" \")\n",
    "        else:\n",
    "            print(\"$\",end=\" \")\n",
    "    print()        "
   ]
  },
  {
   "cell_type": "markdown",
   "id": "33d64303",
   "metadata": {},
   "source": [
    "## 6. Read about list and check all its function\n",
    "### append,  pop,  remove, sort,  insert()\n",
    "### In Python, a list is a built-in data structure that is used to store a collection of items.\n",
    "### Lists are ordered, mutable (can be modified),\n",
    "### and allow duplicate elements.\n",
    "### They are one of the most commonly used data structures in Python.\n"
   ]
  },
  {
   "cell_type": "markdown",
   "id": "14dae94b",
   "metadata": {},
   "source": [
    "## 1. append()\n",
    "### Purpose: Adds an element to the end of the list.\n",
    "### Syntax: list.append(element)\n",
    "### Example:"
   ]
  },
  {
   "cell_type": "code",
   "execution_count": 87,
   "id": "d921fdc6",
   "metadata": {},
   "outputs": [
    {
     "name": "stdout",
     "output_type": "stream",
     "text": [
      "['apple', 'banana', 'cherry']\n"
     ]
    }
   ],
   "source": [
    "fruits = [\"apple\", \"banana\"]\n",
    "fruits.append(\"cherry\")\n",
    "print(fruits)  # Output: ['apple', 'banana', 'cherry']"
   ]
  },
  {
   "cell_type": "markdown",
   "id": "3b918e53",
   "metadata": {},
   "source": [
    "## 2.pop()\n",
    "### Purpose: Removes and returns the element at the given index. If no index is specified, it removes and returns the last element.\n",
    "### 3 Syntax: list.pop(index)"
   ]
  },
  {
   "cell_type": "code",
   "execution_count": 98,
   "id": "b7ecc3bf",
   "metadata": {},
   "outputs": [
    {
     "name": "stdout",
     "output_type": "stream",
     "text": [
      "['apple', 'cherry']\n",
      "banana\n"
     ]
    }
   ],
   "source": [
    "fruits = [\"apple\", \"banana\", \"cherry\"]\n",
    "removed_item=fruits.pop(1)  \n",
    "print(fruits)\n",
    "print(removed_item)"
   ]
  },
  {
   "cell_type": "markdown",
   "id": "38d36918",
   "metadata": {},
   "source": [
    "## 3. remove()\n",
    "### Purpose: Removes the first occurrence of the specified value from the list.\n",
    "\n",
    "### Syntax: list.remove(value)\n",
    "\n",
    "### Example:"
   ]
  },
  {
   "cell_type": "code",
   "execution_count": 91,
   "id": "68c20370",
   "metadata": {},
   "outputs": [
    {
     "name": "stdout",
     "output_type": "stream",
     "text": [
      "['apple', 'cherry', 'banana']\n"
     ]
    }
   ],
   "source": [
    "fruits = [\"apple\", \"banana\", \"cherry\", \"banana\"]\n",
    "fruits.remove(\"banana\")  \n",
    "print(fruits) "
   ]
  },
  {
   "cell_type": "markdown",
   "id": "e133ab56",
   "metadata": {},
   "source": [
    "## 4. sort()\n",
    "### Purpose: Sorts the elements of the list in ascending order (or descending order if specified).\n",
    "\n",
    "### Syntax: list.sort(reverse=False, key=None)\n",
    "\n",
    "### Example:"
   ]
  },
  {
   "cell_type": "code",
   "execution_count": 92,
   "id": "38f9b924",
   "metadata": {},
   "outputs": [
    {
     "name": "stdout",
     "output_type": "stream",
     "text": [
      "[1, 1, 3, 4, 5, 9]\n",
      "[9, 5, 4, 3, 1, 1]\n"
     ]
    }
   ],
   "source": [
    "numbers = [3, 1, 4, 1, 5, 9]\n",
    "numbers.sort()\n",
    "print(numbers) \n",
    "\n",
    "# Sort in descending order\n",
    "numbers.sort(reverse=True)\n",
    "print(numbers) "
   ]
  },
  {
   "cell_type": "markdown",
   "id": "27cc9ec2",
   "metadata": {},
   "source": [
    "## 5. insert()\n",
    "### Purpose: Inserts an element at a specified position in the list.\n",
    "\n",
    "### Syntax: list.insert(index, element)\n",
    "\n",
    "### Example:"
   ]
  },
  {
   "cell_type": "code",
   "execution_count": 93,
   "id": "8af21bc2",
   "metadata": {},
   "outputs": [
    {
     "name": "stdout",
     "output_type": "stream",
     "text": [
      "['apple', 'orange', 'banana', 'cherry']\n"
     ]
    }
   ],
   "source": [
    "fruits = [\"apple\", \"banana\", \"cherry\"]\n",
    "fruits.insert(1, \"orange\")\n",
    "print(fruits) "
   ]
  }
 ],
 "metadata": {
  "kernelspec": {
   "display_name": "Python 3 (ipykernel)",
   "language": "python",
   "name": "python3"
  },
  "language_info": {
   "codemirror_mode": {
    "name": "ipython",
    "version": 3
   },
   "file_extension": ".py",
   "mimetype": "text/x-python",
   "name": "python",
   "nbconvert_exporter": "python",
   "pygments_lexer": "ipython3",
   "version": "3.11.5"
  }
 },
 "nbformat": 4,
 "nbformat_minor": 5
}
